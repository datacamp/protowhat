{
 "cells": [
  {
   "cell_type": "markdown",
   "metadata": {},
   "source": [
    "Parsing Python AST\n",
    "==================\n",
    "\n",
    "In order to run this notebook, be sure to use\n",
    "\n",
    "```\n",
    "pip install asttokens\n",
    "```"
   ]
  },
  {
   "cell_type": "code",
   "execution_count": 1,
   "metadata": {
    "collapsed": false
   },
   "outputs": [
    {
     "name": "stdout",
     "output_type": "stream",
     "text": [
      "Module(body=[Expr(value=Call(func=Attribute(value=Name(id='x', ctx=Load()), attr='walk', ctx=Load()), args=[], keywords=[keyword(arg='steps', value=BinOp(left=Num(n=10), op=Mult(), right=Name(id='n', ctx=Load())))]))])\n",
      "\n",
      "Attribute(value=Name(id='x', ctx=Load()), attr='walk', ctx=Load())\n"
     ]
    }
   ],
   "source": [
    "import ast\n",
    "from protowhat.utils_ast import AstNode\n",
    "\n",
    "code = \"x.walk(steps=10*n)\"\n",
    "tree = ast.parse(code)\n",
    "\n",
    "print(ast.dump(tree))\n",
    "print()\n",
    "print(ast.dump(tree.body[0].value.func))"
   ]
  },
  {
   "cell_type": "markdown",
   "metadata": {},
   "source": [
    "Visualizing AST Via [ast-viewer](http://ast-viewer.datacamp.com/static/index.html#/editor?code=x.walk%28steps%3D10%2an%29&start=NA&grammar=python)\n",
    "--------------\n",
    "\n",
    "![](tree_graph.png)"
   ]
  },
  {
   "cell_type": "markdown",
   "metadata": {},
   "source": [
    "Enhancing Python's AST\n",
    "======================"
   ]
  },
  {
   "cell_type": "code",
   "execution_count": 2,
   "metadata": {
    "collapsed": false
   },
   "outputs": [
    {
     "name": "stdout",
     "output_type": "stream",
     "text": [
      "x.walk(steps=10*n)\n",
      "x.walk\n"
     ]
    }
   ],
   "source": [
    "from example_helper import patch_ast\n",
    "\n",
    "\"\"\"\n",
    "For the sake of demonstration, this makes it so nodes in the builtin \n",
    "ast module have the following methods:\n",
    "\n",
    "    * _get_text(code): returns the code corresponding to that node.\n",
    "    * _get_field_names: returns nodes field names (e.g. module has a body field)\n",
    "    * _priority: can ignore for now\n",
    "\n",
    "See protowhat.utils_ast.AstNode for the required methods an AST class needs\n",
    "\"\"\"\n",
    "patch_ast()\n",
    "\n",
    "print(tree._get_text(code))\n",
    "print(tree.body[0].value.func._get_text(code))"
   ]
  },
  {
   "cell_type": "markdown",
   "metadata": {},
   "source": [
    "Connecting Parser to Protowhat's Dispatcher\n",
    "==========================================="
   ]
  },
  {
   "cell_type": "code",
   "execution_count": 3,
   "metadata": {
    "collapsed": false
   },
   "outputs": [
    {
     "data": {
      "text/plain": [
       "'n'"
      ]
     },
     "execution_count": 3,
     "metadata": {},
     "output_type": "execute_result"
    }
   ],
   "source": [
    "from inspect import isclass\n",
    "from protowhat.selectors import Dispatcher\n",
    "\n",
    "# see protowhat.utils_ast.AstModule for a template\n",
    "class AstParser:\n",
    "    ParseError = SyntaxError     # what ast.parse raises for errors\n",
    "    AstNode = ast.AST             # parent AST class\n",
    "    classes = {v.__name__: v for v in ast.__dict__.values()\n",
    "                       if isclass(v) and issubclass(v, ast.AST)}\n",
    "    \n",
    "    def parse(self, code, strict = True):\n",
    "        # strict option is for parsers that can do partial parsing\n",
    "        # of bad syntax. For example, antlr-plsql raises an error\n",
    "        # when strict is set to true and the code has bad syntax.\n",
    "        return ast.parse(code)\n",
    "\n",
    "# first argument tells dispatcher the names of all node classes\n",
    "# that can appear on AST, so an SCT can search for them by name\n",
    "d = Dispatcher(nodes = AstParser.classes, ast = AstParser())\n",
    "\n",
    "code = \"x.walk(steps=10*n)\"\n",
    "tree = d.parse(code)\n",
    "\n",
    "expr  = d('Expr', 0, tree)\n",
    "expr is tree.body[0]\n",
    "\n",
    "names = d('Name', slice(None), tree, priority = 99)\n",
    "names[0]._get_text(code)    # x\n",
    "names[1]._get_text(code)    # n"
   ]
  },
  {
   "cell_type": "markdown",
   "metadata": {},
   "source": [
    "Adding Dispatcher to Protowhat State\n",
    "===================================="
   ]
  },
  {
   "cell_type": "code",
   "execution_count": 4,
   "metadata": {
    "collapsed": false
   },
   "outputs": [
    {
     "data": {
      "text/plain": [
       "'print(1 + 1)'"
      ]
     },
     "execution_count": 4,
     "metadata": {},
     "output_type": "execute_result"
    }
   ],
   "source": [
    "from protowhat.State import State\n",
    "from protowhat.Reporter import Reporter\n",
    "from protowhat.checks.check_funcs import check_node, check_edge\n",
    "\n",
    "class PythonState(State):\n",
    "    def get_dispatcher(self):\n",
    "        return Dispatcher(nodes = AstParser.classes, ast = AstParser())\n",
    "\n",
    "s = PythonState(\n",
    "        student_code = \"print(1 + 1)\",\n",
    "        solution_code = \"print(1 + 2); 2 + 2\",\n",
    "        pre_exercise_code = \"\",\n",
    "        student_conn = None,\n",
    "        solution_conn = None,\n",
    "        student_result = \"2\",\n",
    "        solution_result = \"3\",\n",
    "        reporter = Reporter()\n",
    "        )\n",
    "\n",
    "# s.ast_dispatcher.nodes         # long print out of AST node classes\n",
    "s.ast_dispatcher.ParseError\n",
    "s.student_ast\n",
    "\n",
    "expr = s.ast_dispatcher('Expr', 0, s.student_ast)\n",
    "s.ast_dispatcher.ParseError\n",
    "s_expr = check_node(s, 'Expr', 0)\n",
    "s_call = check_node(s_expr, 'Call', 0)\n",
    "\n",
    "s_call.student_ast    # call node\n",
    "s_call.student_ast._get_text(s.student_code)\n",
    "\n",
    "#check_node(s, 'Expr', 1)     # raises TestFail with feedback"
   ]
  },
  {
   "cell_type": "markdown",
   "metadata": {},
   "source": [
    "Test Yourself\n",
    "--------------\n",
    "\n",
    "1. Graph the relationship between the PythonParser, Dispatcher, and PythonState\n",
    "2. Why do we go to the trouble of building the Dispatcher?\n",
    "3. Build a state with the code `for ii in range(10): print(ii)`. \n",
    "   Use a `check_node` single `check_node` to get the `print` call.\n",
    "   Use several `check_node` and `check_edge` calls to get the same node."
   ]
  }
 ],
 "metadata": {
  "anaconda-cloud": {},
  "kernelspec": {
   "display_name": "Python [Root]",
   "language": "python",
   "name": "Python [Root]"
  },
  "language_info": {
   "codemirror_mode": {
    "name": "ipython",
    "version": 3
   },
   "file_extension": ".py",
   "mimetype": "text/x-python",
   "name": "python",
   "nbconvert_exporter": "python",
   "pygments_lexer": "ipython3",
   "version": "3.5.2"
  }
 },
 "nbformat": 4,
 "nbformat_minor": 0
}
